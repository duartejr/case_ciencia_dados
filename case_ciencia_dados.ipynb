{
 "cells": [
  {
   "cell_type": "markdown",
   "metadata": {},
   "source": [
    "# Case de Ciência de Dados"
   ]
  },
  {
   "cell_type": "markdown",
   "metadata": {},
   "source": [
    "## Descrição do dataset\n",
    "\n",
    "Para este case foi utilizado o dataset `Electricity ID=150` disponível no [OpenML](https://www.openml.org/search?type=data&sort=runs&id=151&status=active).\n",
    "\n",
    "<p align='justify'>O `Electricity` é um dataset descrito por M. Harries e analisado por J. Gama (ver artigos abaixo). Esses dados foram coletados do mercado de eletricidade australiano de New South Wales. Nesse mercado, os preços não são fixos e são afetados pela demanda e oferta do mercado. Eles são definidos a cada cinco minutos. As transferências de eletricidade de/para o estado vizinho de Victoria foram feitas para aliviar as flutuações.</p>\n",
    "\n",
    "<p align='justify'>O conjunto de dados (originalmente denominado ELEC2) contém 45.312 instâncias datadas de 7 de maio de 1996 a 5 de dezembro de 1998. Cada exemplo do conjunto de dados refere-se a um período de 30 minutos, ou seja, há 48 instâncias para cada período de um dia. Cada exemplo no conjunto de dados tem 5 campos, o dia da semana, o carimbo de hora, a demanda de eletricidade de New South Wales, a demanda de eletricidade de Victoria, a transferência de eletricidade programada entre estados e o rótulo da classe. O rótulo da classe identifica a mudança do preço (UP ou DOWN) em New South Wales em relação a uma média móvel das últimas 24 horas (e remove o impacto das tendências de preços de longo prazo).</p>\n",
    "\n",
    "Os dados foram normalizados por A. Bifet."
   ]
  },
  {
   "cell_type": "markdown",
   "metadata": {},
   "source": [
    "## Descrição dos Dados\n",
    "\n",
    "| Nome        | Descrição                                                              | Range                            | Tipo\n",
    "| --          | --                                                                     | --                               | --\n",
    "| Date        | Data entre 7 de maio de 1996 a 5 dezembro de 1998.                     | Normalizado entre 0 e 1          | Numérico\n",
    "| Day         | Dia da semana                                                          | Range entre 1 e 7                | Categórico\n",
    "| Period      | Hora da medição (1-48) em intervalos de meia hora ao longo de 24 horas.| Normalizado entre 0 e 1          | Numérico\n",
    "| NSWprice    | Preço da eletricidade em New South Wales                               | Normalizado entre 0 e 1          | Numérico\n",
    "| NSWdemand   | Demanda de eletricidade em New South Wales                             | Normalizado entre 0 e 1          | Numérico\n",
    "| VICprice    | Preço da eletricidade em Victoria                                      | Normalizado entre 0 e 1          | Numérico\n",
    "| VICdemand   | Demanda de eletricidade em Victoria                                    | Normalizado entre 0 e 1          | Numérico\n",
    "| transfer    | Transferência programada de eletricidade entre os dois estados         | Normalizado entre 0 e 1          | Numérico\n",
    "| class(target)| Preço da eletricidade em NSW acima/abaixo da média de 24 horas        | 1 (Acima/UP) ou 0 (abaixo/DOWN)  | Numérico"
   ]
  },
  {
   "cell_type": "markdown",
   "metadata": {},
   "source": [
    "## Artigos\n",
    "M. Harries. [Splice-2 comparative evaluation: Electricity pricing](https://citeseerx.ist.psu.edu/viewdoc/download;jsessionid=BCB2570AC299719CEA236621B98F4387?doi=10.1.1.12.9405&rep=rep1&type=pdf). Technical report, The University of South Wales, 1999.\n",
    "\n",
    "J. Gama, P. Medas, G. Castillo, and P. Rodrigues. [Learning with drift detection](https://dl.acm.org/doi/abs/10.1145/2523813). In SBIA Brazilian Symposium on Artificial Intelligence, pages 286–295, 2004."
   ]
  },
  {
   "cell_type": "markdown",
   "metadata": {},
   "source": [
    "## Objetivo\n",
    "\n",
    "O objetivo deste case é criar um modelo de Machine Learning capaz de predizer se a tarifa de eletricidade em New South Wales estará acima ou abaixo da tarifa média das últimas 24 horas."
   ]
  },
  {
   "cell_type": "markdown",
   "metadata": {},
   "source": [
    "## Implementação da solução do problema"
   ]
  },
  {
   "cell_type": "markdown",
   "metadata": {},
   "source": [
    "### Importação das bibliotecas necessárias"
   ]
  },
  {
   "cell_type": "code",
   "execution_count": 60,
   "metadata": {},
   "outputs": [],
   "source": [
    "from sklearn import datasets as ds\n",
    "import numpy as np\n",
    "import pandas as pd\n",
    "import seaborn as sns\n",
    "import matplotlib.pyplot as plt"
   ]
  },
  {
   "cell_type": "markdown",
   "metadata": {},
   "source": [
    "### Leitura do dataset"
   ]
  },
  {
   "cell_type": "code",
   "execution_count": 61,
   "metadata": {},
   "outputs": [],
   "source": [
    "df = ds.fetch_openml(data_id=151, as_frame=True, return_X_y=True)                # Carrega o dataset a partir do repositório do OpenML\n",
    "df = pd.concat(df, axis=1).assign(target=lambda x: (x['class'] == 'UP') * 1)     # Adiciona a coluna \"class\" com as classes UP e DOWN"
   ]
  },
  {
   "cell_type": "markdown",
   "metadata": {},
   "source": [
    "## Explorando o dataset\n",
    "\n",
    "\n",
    "<p align='justify'>Explorar a base de dados é uma importante etapa do processo de construção de um modelo de Machine Learning. É nesta etapa que identificamos possíveis incosistências nos dados fornecidos tais como: outliers, dados faltantes, informações incorretas. Esta análise também nos permite identificar padrões nos dados que podem gerar conhecimentos úteis para o negócio e auxiliar no processo de modelagem.</br>"
   ]
  },
  {
   "cell_type": "markdown",
   "metadata": {},
   "source": [
    "Informações gerais do dataset\n",
    "Utilizando o comando `info` são exibidas algumas características do dataset como: tipo dos dados, número de colunas, nomes das colunas, total de linhas, total de valores nulos em cada coluna."
   ]
  },
  {
   "cell_type": "code",
   "execution_count": 62,
   "metadata": {},
   "outputs": [
    {
     "name": "stdout",
     "output_type": "stream",
     "text": [
      "<class 'pandas.core.frame.DataFrame'>\n",
      "RangeIndex: 45312 entries, 0 to 45311\n",
      "Data columns (total 10 columns):\n",
      " #   Column     Non-Null Count  Dtype   \n",
      "---  ------     --------------  -----   \n",
      " 0   date       45312 non-null  float64 \n",
      " 1   day        45312 non-null  category\n",
      " 2   period     45312 non-null  float64 \n",
      " 3   nswprice   45312 non-null  float64 \n",
      " 4   nswdemand  45312 non-null  float64 \n",
      " 5   vicprice   45312 non-null  float64 \n",
      " 6   vicdemand  45312 non-null  float64 \n",
      " 7   transfer   45312 non-null  float64 \n",
      " 8   class      45312 non-null  category\n",
      " 9   target     45312 non-null  int32   \n",
      "dtypes: category(2), float64(7), int32(1)\n",
      "memory usage: 2.7 MB\n"
     ]
    }
   ],
   "source": [
    "df.info()"
   ]
  },
  {
   "cell_type": "markdown",
   "metadata": {},
   "source": [
    "O resultado anterior mostra que não há dados faltantes.\n",
    "\n",
    "A seguir o comando `describe` mostra algumas das principais métricas estatísticas das variáveis numéricas do conjunto de dados: média, mediana, desvio padrão, máximo, mínimo, 1º quartil (25%), 3º quartil (75%). Este é um comando útil para entender a distribuição dos dados.\n",
    "\n",
    "<p justify='align'>Como date e period foram registrados como sendo do tipo numéricas o <code>describe</code> também acabou realizando o cálculo para tais métricas, embora não faça sentido. Vê-se que a variável <strong>vicprice</strong> é a de menor variabilidade e valor médio do conjunto. Como todas as variáveis numéricas já estão normalizadas, na mesma ordem de grandeza, não será necessário realizar a normalização dos dados em etapas posteriores do processo de modelagem.</p>"
   ]
  },
  {
   "cell_type": "code",
   "execution_count": 63,
   "metadata": {},
   "outputs": [
    {
     "data": {
      "text/html": [
       "<div>\n",
       "<style scoped>\n",
       "    .dataframe tbody tr th:only-of-type {\n",
       "        vertical-align: middle;\n",
       "    }\n",
       "\n",
       "    .dataframe tbody tr th {\n",
       "        vertical-align: top;\n",
       "    }\n",
       "\n",
       "    .dataframe thead th {\n",
       "        text-align: right;\n",
       "    }\n",
       "</style>\n",
       "<table border=\"1\" class=\"dataframe\">\n",
       "  <thead>\n",
       "    <tr style=\"text-align: right;\">\n",
       "      <th></th>\n",
       "      <th>date</th>\n",
       "      <th>period</th>\n",
       "      <th>nswprice</th>\n",
       "      <th>nswdemand</th>\n",
       "      <th>vicprice</th>\n",
       "      <th>vicdemand</th>\n",
       "      <th>transfer</th>\n",
       "      <th>target</th>\n",
       "    </tr>\n",
       "  </thead>\n",
       "  <tbody>\n",
       "    <tr>\n",
       "      <th>count</th>\n",
       "      <td>45312.000000</td>\n",
       "      <td>45312.000000</td>\n",
       "      <td>45312.000000</td>\n",
       "      <td>45312.000000</td>\n",
       "      <td>45312.000000</td>\n",
       "      <td>45312.000000</td>\n",
       "      <td>45312.000000</td>\n",
       "      <td>45312.000000</td>\n",
       "    </tr>\n",
       "    <tr>\n",
       "      <th>mean</th>\n",
       "      <td>0.499080</td>\n",
       "      <td>0.500000</td>\n",
       "      <td>0.057868</td>\n",
       "      <td>0.425418</td>\n",
       "      <td>0.003467</td>\n",
       "      <td>0.422915</td>\n",
       "      <td>0.500526</td>\n",
       "      <td>0.424545</td>\n",
       "    </tr>\n",
       "    <tr>\n",
       "      <th>std</th>\n",
       "      <td>0.340308</td>\n",
       "      <td>0.294756</td>\n",
       "      <td>0.039991</td>\n",
       "      <td>0.163323</td>\n",
       "      <td>0.010213</td>\n",
       "      <td>0.120965</td>\n",
       "      <td>0.153373</td>\n",
       "      <td>0.494279</td>\n",
       "    </tr>\n",
       "    <tr>\n",
       "      <th>min</th>\n",
       "      <td>0.000000</td>\n",
       "      <td>0.000000</td>\n",
       "      <td>0.000000</td>\n",
       "      <td>0.000000</td>\n",
       "      <td>0.000000</td>\n",
       "      <td>0.000000</td>\n",
       "      <td>0.000000</td>\n",
       "      <td>0.000000</td>\n",
       "    </tr>\n",
       "    <tr>\n",
       "      <th>25%</th>\n",
       "      <td>0.031934</td>\n",
       "      <td>0.250000</td>\n",
       "      <td>0.035127</td>\n",
       "      <td>0.309134</td>\n",
       "      <td>0.002277</td>\n",
       "      <td>0.372346</td>\n",
       "      <td>0.414912</td>\n",
       "      <td>0.000000</td>\n",
       "    </tr>\n",
       "    <tr>\n",
       "      <th>50%</th>\n",
       "      <td>0.456329</td>\n",
       "      <td>0.500000</td>\n",
       "      <td>0.048652</td>\n",
       "      <td>0.443693</td>\n",
       "      <td>0.003467</td>\n",
       "      <td>0.422915</td>\n",
       "      <td>0.414912</td>\n",
       "      <td>0.000000</td>\n",
       "    </tr>\n",
       "    <tr>\n",
       "      <th>75%</th>\n",
       "      <td>0.880547</td>\n",
       "      <td>0.750000</td>\n",
       "      <td>0.074336</td>\n",
       "      <td>0.536001</td>\n",
       "      <td>0.003467</td>\n",
       "      <td>0.469252</td>\n",
       "      <td>0.605702</td>\n",
       "      <td>1.000000</td>\n",
       "    </tr>\n",
       "    <tr>\n",
       "      <th>max</th>\n",
       "      <td>1.000000</td>\n",
       "      <td>1.000000</td>\n",
       "      <td>1.000000</td>\n",
       "      <td>1.000000</td>\n",
       "      <td>1.000000</td>\n",
       "      <td>1.000000</td>\n",
       "      <td>1.000000</td>\n",
       "      <td>1.000000</td>\n",
       "    </tr>\n",
       "  </tbody>\n",
       "</table>\n",
       "</div>"
      ],
      "text/plain": [
       "               date        period      nswprice     nswdemand      vicprice  \\\n",
       "count  45312.000000  45312.000000  45312.000000  45312.000000  45312.000000   \n",
       "mean       0.499080      0.500000      0.057868      0.425418      0.003467   \n",
       "std        0.340308      0.294756      0.039991      0.163323      0.010213   \n",
       "min        0.000000      0.000000      0.000000      0.000000      0.000000   \n",
       "25%        0.031934      0.250000      0.035127      0.309134      0.002277   \n",
       "50%        0.456329      0.500000      0.048652      0.443693      0.003467   \n",
       "75%        0.880547      0.750000      0.074336      0.536001      0.003467   \n",
       "max        1.000000      1.000000      1.000000      1.000000      1.000000   \n",
       "\n",
       "          vicdemand      transfer        target  \n",
       "count  45312.000000  45312.000000  45312.000000  \n",
       "mean       0.422915      0.500526      0.424545  \n",
       "std        0.120965      0.153373      0.494279  \n",
       "min        0.000000      0.000000      0.000000  \n",
       "25%        0.372346      0.414912      0.000000  \n",
       "50%        0.422915      0.414912      0.000000  \n",
       "75%        0.469252      0.605702      1.000000  \n",
       "max        1.000000      1.000000      1.000000  "
      ]
     },
     "execution_count": 63,
     "metadata": {},
     "output_type": "execute_result"
    }
   ],
   "source": [
    "df.describe()"
   ]
  },
  {
   "cell_type": "markdown",
   "metadata": {},
   "source": [
    "Visualização das primeiras linhas do dataset. Esta visualização nos ajuda a entender a estrutura do dataset."
   ]
  },
  {
   "cell_type": "code",
   "execution_count": 64,
   "metadata": {},
   "outputs": [
    {
     "data": {
      "text/html": [
       "<div>\n",
       "<style scoped>\n",
       "    .dataframe tbody tr th:only-of-type {\n",
       "        vertical-align: middle;\n",
       "    }\n",
       "\n",
       "    .dataframe tbody tr th {\n",
       "        vertical-align: top;\n",
       "    }\n",
       "\n",
       "    .dataframe thead th {\n",
       "        text-align: right;\n",
       "    }\n",
       "</style>\n",
       "<table border=\"1\" class=\"dataframe\">\n",
       "  <thead>\n",
       "    <tr style=\"text-align: right;\">\n",
       "      <th></th>\n",
       "      <th>date</th>\n",
       "      <th>day</th>\n",
       "      <th>period</th>\n",
       "      <th>nswprice</th>\n",
       "      <th>nswdemand</th>\n",
       "      <th>vicprice</th>\n",
       "      <th>vicdemand</th>\n",
       "      <th>transfer</th>\n",
       "      <th>class</th>\n",
       "      <th>target</th>\n",
       "    </tr>\n",
       "  </thead>\n",
       "  <tbody>\n",
       "    <tr>\n",
       "      <th>0</th>\n",
       "      <td>0.0</td>\n",
       "      <td>2</td>\n",
       "      <td>0.000000</td>\n",
       "      <td>0.056443</td>\n",
       "      <td>0.439155</td>\n",
       "      <td>0.003467</td>\n",
       "      <td>0.422915</td>\n",
       "      <td>0.414912</td>\n",
       "      <td>UP</td>\n",
       "      <td>1</td>\n",
       "    </tr>\n",
       "    <tr>\n",
       "      <th>1</th>\n",
       "      <td>0.0</td>\n",
       "      <td>2</td>\n",
       "      <td>0.021277</td>\n",
       "      <td>0.051699</td>\n",
       "      <td>0.415055</td>\n",
       "      <td>0.003467</td>\n",
       "      <td>0.422915</td>\n",
       "      <td>0.414912</td>\n",
       "      <td>UP</td>\n",
       "      <td>1</td>\n",
       "    </tr>\n",
       "    <tr>\n",
       "      <th>2</th>\n",
       "      <td>0.0</td>\n",
       "      <td>2</td>\n",
       "      <td>0.042553</td>\n",
       "      <td>0.051489</td>\n",
       "      <td>0.385004</td>\n",
       "      <td>0.003467</td>\n",
       "      <td>0.422915</td>\n",
       "      <td>0.414912</td>\n",
       "      <td>UP</td>\n",
       "      <td>1</td>\n",
       "    </tr>\n",
       "    <tr>\n",
       "      <th>3</th>\n",
       "      <td>0.0</td>\n",
       "      <td>2</td>\n",
       "      <td>0.063830</td>\n",
       "      <td>0.045485</td>\n",
       "      <td>0.314639</td>\n",
       "      <td>0.003467</td>\n",
       "      <td>0.422915</td>\n",
       "      <td>0.414912</td>\n",
       "      <td>UP</td>\n",
       "      <td>1</td>\n",
       "    </tr>\n",
       "    <tr>\n",
       "      <th>4</th>\n",
       "      <td>0.0</td>\n",
       "      <td>2</td>\n",
       "      <td>0.085106</td>\n",
       "      <td>0.042482</td>\n",
       "      <td>0.251116</td>\n",
       "      <td>0.003467</td>\n",
       "      <td>0.422915</td>\n",
       "      <td>0.414912</td>\n",
       "      <td>DOWN</td>\n",
       "      <td>0</td>\n",
       "    </tr>\n",
       "  </tbody>\n",
       "</table>\n",
       "</div>"
      ],
      "text/plain": [
       "   date day    period  nswprice  nswdemand  vicprice  vicdemand  transfer  \\\n",
       "0   0.0   2  0.000000  0.056443   0.439155  0.003467   0.422915  0.414912   \n",
       "1   0.0   2  0.021277  0.051699   0.415055  0.003467   0.422915  0.414912   \n",
       "2   0.0   2  0.042553  0.051489   0.385004  0.003467   0.422915  0.414912   \n",
       "3   0.0   2  0.063830  0.045485   0.314639  0.003467   0.422915  0.414912   \n",
       "4   0.0   2  0.085106  0.042482   0.251116  0.003467   0.422915  0.414912   \n",
       "\n",
       "  class  target  \n",
       "0    UP       1  \n",
       "1    UP       1  \n",
       "2    UP       1  \n",
       "3    UP       1  \n",
       "4  DOWN       0  "
      ]
     },
     "execution_count": 64,
     "metadata": {},
     "output_type": "execute_result"
    }
   ],
   "source": [
    "df.head()"
   ]
  },
  {
   "cell_type": "markdown",
   "metadata": {},
   "source": [
    "### Análise descritiva dos dados de eletricidade para New South Wales"
   ]
  },
  {
   "cell_type": "markdown",
   "metadata": {},
   "source": [
    "<p align='justify'>Como o principal objetivo do case está relacionado ao consumo de eletricidade de New South Wales a seguir é realizada uma análise das variáveis relacionadas ao consumo de eletricidade em New South Wales. O objetivo é identificar padrões que possam existir nas séries de dados.<p>\n",
    "<p align='justify'>O primeiro gráfico mostra a demanda média de eletricide em New South Wales ao longo do dia.</p> "
   ]
  },
  {
   "cell_type": "code",
   "execution_count": 106,
   "metadata": {},
   "outputs": [],
   "source": [
    "# Definição da função para gerar os gráficos de linha\n",
    "def grafico_linhas(x, y, title, xlabel, ylabel, minx=0, maxx=24, stepx=1, maxy=1.0, stepy=0.01):\n",
    "    '''\n",
    "        Função para gerar gráficos de linhas\n",
    "        Args:\n",
    "            y (string): Nome da coluna do dataset que estará no eixo y do gráfico\n",
    "            title (string): Título do gráfico\n",
    "            ylabel (string): Label do eixo y\n",
    "            maxy (float): Limite máximo do eixo y\n",
    "            stepy (float): Intervalo entre as marcações do eixo y\n",
    "    '''\n",
    "    fig, ax = plt.subplots(1, 1, figsize=(12, 6))\n",
    "    sns.lineplot(x=x, y=y, ax=ax)\n",
    "    ax.set_title(title, fontsize=14)\n",
    "    ax.set_ylabel(ylabel, fontsize=12)\n",
    "    ax.set_xlabel(xlabel, fontsize=12)\n",
    "    ax.set_yticks(np.arange(0, maxy + stepy, stepy).round(2))\n",
    "    ax.set_yticklabels(np.arange(0, maxy + stepy, stepy).round(2), fontsize=12)\n",
    "    ax.set_xticks(np.arange(minx, maxx + stepx, stepx))\n",
    "    ax.set_xlim(minx, maxx)\n",
    "    ax.spines[['top', 'right']].set_visible(False)\n",
    "    plt.show()"
   ]
  },
  {
   "cell_type": "markdown",
   "metadata": {},
   "source": [
    "Plot do gráfico da variação da demanda de energia ao longo do dia."
   ]
  },
  {
   "cell_type": "code",
   "execution_count": 107,
   "metadata": {},
   "outputs": [
    {
     "data": {
      "image/png": "[encoded data removed]",
      "text/plain": [
       "<Figure size 864x432 with 1 Axes>"
      ]
     },
     "metadata": {
      "needs_background": "light"
     },
     "output_type": "display_data"
    }
   ],
   "source": [
    "titulo = 'Demanda de eletricidade em New South Wales'\n",
    "ylabel = 'Demanda de eletricidade normalizada'\n",
    "xlabel = 'Horário do dia'\n",
    "maxy = .8\n",
    "stepy = .1\n",
    "x = df['period']*24\n",
    "y = df['nswdemand']\n",
    "\n",
    "grafico_linhas(x, y, titulo, xlabel, ylabel, maxy=maxy, stepy=stepy)"
   ]
  },
  {
   "cell_type": "markdown",
   "metadata": {},
   "source": [
    "Este gráfico mostra a variação média da demanda de energia ao longo do dia. Ele é feito calculando-se a média de consumo para cada hora ao longo do tempo. A linha central representa a média e a área sombreada o intervalo de confiança com nível de 95%.\n",
    "\n",
    "Neste caso, como a área sombreada é pequena, pode-se deduzir que há uma pequena variação na demanda por eletricidade, ou seja, não há grandes flutuações de demanda ao longo do ano.\n",
    "\n",
    "O gráfico acima mostra um padrão comum aos centros urbanos, uma baixa demanda de eletricidade durante a madrugada (quando a atividade comercial na cidade é baixa) e maior demanda durante o dia (período de maior atividade comercial na cidade). Durante o dia são observados dois picos: o primeiro entre 9 e 10 hr e o segundo próximo às 19 horas. Tais picos geralmente coicidem com o iníco das atividades comerciais e com a chegada dos trabalhadores em casa. Como preço da tarifa de energia está atrelada a demanda é esperado que a variação da tarifa reflita este comportamento como pode ser visto no gráfico a seguir."
   ]
  },
  {
   "cell_type": "markdown",
   "metadata": {},
   "source": [
    "Plot do gráfico da variação média do preço da eletricidade em New South Wales."
   ]
  },
  {
   "cell_type": "code",
   "execution_count": 108,
   "metadata": {},
   "outputs": [
    {
     "data": {
      "image/png": "[encoded data removed]",
      "text/plain": [
       "<Figure size 864x432 with 1 Axes>"
      ]
     },
     "metadata": {
      "needs_background": "light"
     },
     "output_type": "display_data"
    }
   ],
   "source": [
    "titulo = 'Preço da eletricidade em New South Wales'\n",
    "ylabel = 'Preço da eletricidade normalizado'\n",
    "maxy = 0.11\n",
    "y = df['nswprice']\n",
    "grafico_linhas(x, y, titulo, xlabel, ylabel, maxy=maxy)"
   ]
  },
  {
   "cell_type": "markdown",
   "metadata": {},
   "source": [
    "Como esperado, a partir da análise do gráfico de demanda, o valor da tarifa, durante a madrugada, é menor que no restante do dia. O maior pico de tarifa ocorre entre as 18 e 19 horas, um pouco defasado em relação ao pico de demanda visto no gráfico anterior. No caso do preço da tarifa é observada uma maior variabilidade do que a vista para a demanda, pois a área sombreada é maior, em especial durante o período diurno. Isto indica que, dependendo da época do ano, a tarifa pode estar, em média, mais baixa ou mais alta. Portanto, ela pode estar influenciada por fatores externos além da demanda.\n",
    "\n",
    "O próximo gráfico mostra a variação da demanda ao longo da semana."
   ]
  },
  {
   "cell_type": "code",
   "execution_count": 109,
   "metadata": {},
   "outputs": [
    {
     "data": {
      "image/png": "[encoded data removed]",
      "text/plain": [
       "<Figure size 864x432 with 1 Axes>"
      ]
     },
     "metadata": {
      "needs_background": "light"
     },
     "output_type": "display_data"
    }
   ],
   "source": [
    "titulo = 'Demanda de eletricidade diária em New South Wales'\n",
    "ylabel = 'Demanda de eletricidade normalizada'\n",
    "xlabel = 'Dias da semana'\n",
    "maxy = .6\n",
    "stepy = .1\n",
    "x = df['day']\n",
    "y = df['nswdemand']\n",
    "maxx = 6\n",
    "minx = 0\n",
    "\n",
    "grafico_linhas(x, y, titulo, xlabel, ylabel, minx=minx, maxx=maxx, maxy=maxy, stepy=stepy)"
   ]
  },
  {
   "cell_type": "markdown",
   "metadata": {},
   "source": [
    "Considerando que o primeiro dia da semana seja Domingo vê-se que, nesta cidade, as atividades de maior demanda por eletricidade ocorrem durante os dias úteis. Pode-se levantar a hipótese que o principal responsável pelo aumento da demanda na cidade seja a atividade comercial.\n",
    "\n",
    "Com esta análise inicial temos informações sobre o perfil de consumo da população da cidade que podem ser úteis para os gestores do sistema elétrico. O sistema elétrico têm de ser gerido de forma a garantir que a potência elétrica disponível na rede não esteja acima ou abaixo da demanda. Se um dos casos mencionados ocorrer há o risco de o sistema cair. O que deixaria vários clientes sem o fornecimento de energia elétrica, significando prejuízo para a companhia energética. Com a informação sobre o consumo médio dos clientes e períodos de pico a companhia pode elaborar planos de operação capazes de atender a demanda prevista com a máxima eficiência possível.\n",
    "\n",
    "Já do lado do cliente, sabendo-se em quais períodos do dia, em média, a fatura é mais alta ele pode tentar mudar seus horários de máximo consumo a fim de economizar na fatura. Indústrias podem, por exemplo, quando possível, automatizar processos para que sejam executados durante o horário de menor tarifa."
   ]
  },
  {
   "cell_type": "markdown",
   "metadata": {},
   "source": [
    "## Criação do modelo de Machine Learning"
   ]
  },
  {
   "cell_type": "markdown",
   "metadata": {},
   "source": [
    "### Análise da variável alvo"
   ]
  },
  {
   "cell_type": "markdown",
   "metadata": {},
   "source": [
    "Após a análise exploratória dos dados o próximo passo para a modelagem é entender a distribuição e o tipo da variável alvo. Executando-se a célula a seguir é gerado um gráfico que mostra a distribuição da variável `class` que o objeto de modelagem deste case."
   ]
  },
  {
   "cell_type": "code",
   "execution_count": 69,
   "metadata": {},
   "outputs": [
    {
     "data": {
      "image/png": "[encoded data removed]",
      "text/plain": [
       "<Figure size 360x360 with 1 Axes>"
      ]
     },
     "metadata": {
      "needs_background": "light"
     },
     "output_type": "display_data"
    }
   ],
   "source": [
    "fig = sns.displot(data = df,\n",
    "                  x = 'class', \n",
    "                  stat = 'percent', \n",
    "                  hue = 'class', \n",
    "                  palette = ['#0c0a37', '#4a9dd3'], \n",
    "                  alpha = 1, \n",
    "                  legend = False, \n",
    "                  edgecolor = '#ffffff')\n",
    "fig.ax.set_ylabel('Frequência (%)', fontsize=12)\n",
    "fig.ax.set_xlabel('Classe', fontsize=12)\n",
    "fig.ax.set_title('Distribuição das classes UP e DOWN', fontsize=14)\n",
    "plt.show()"
   ]
  },
  {
   "cell_type": "markdown",
   "metadata": {},
   "source": [
    "O gráfico mostra que há mais períodos de fatura abaixo (**DOWN**) do que acima (**UP**) da média de 24 horas.\n",
    "\n",
    "Utilizando-se o comando `value_counts` a seguir obtemos uma métrica mais precisa sobre a distribuição das classes."
   ]
  },
  {
   "cell_type": "code",
   "execution_count": 70,
   "metadata": {},
   "outputs": [
    {
     "data": {
      "text/plain": [
       "DOWN    57.545463\n",
       "UP      42.454537\n",
       "Name: class, dtype: float64"
      ]
     },
     "execution_count": 70,
     "metadata": {},
     "output_type": "execute_result"
    }
   ],
   "source": [
    "df['class'].value_counts(normalize=True) * 100"
   ]
  },
  {
   "cell_type": "markdown",
   "metadata": {},
   "source": [
    "Neste dataset 57,55% dos registros estão abaixo da média de 24 horas e 42,45% estão acima. Portanto, existe um desbalanceamento entre as classes, ou seja, a quantidade de amostras de cada classe não é igual, há predominância de uma das classes. O desbalanceamento pode tornar o modelo tendencioso a prever apenas a classe dominante. Para diminuir as chances que isto ocorra será realizado o balanceamento das classes. O balanceamento de classes consiste em fazer com que a quantidade de registros em cada uma das classes seja igual. Caso um modelo fosse treinado com estes dados e chutase sempre na classe **DOWN** ele teria uma acurácia (taxa de acertos) de 57,55%.\n",
    "\n",
    "Como a variável `class` é do tipo categórica este é um problema de classificação. Dentre os inúmeros modelos de classificação existentes foi escolhido o Random Forest. Este modelo aproveita a simplicidade das árvores de decisão combinado com a robustez que métodos de ensemble (previsão por conjunto de modelos) fornece."
   ]
  },
  {
   "cell_type": "markdown",
   "metadata": {},
   "source": [
    "### Seleção de variáveis"
   ]
  },
  {
   "cell_type": "markdown",
   "metadata": {},
   "source": [
    "Para a composição do conjunto de variáveis independentes (X) serão removidas as variáveis: `date`, `class`, `target`, `nswprice`, `vicprice`\n",
    "\n",
    "A remoção da variável `date` é justificada porque cada data é única e como não há repetição de eventos um modelo que considere data como atributo terá dificuldades de realizar previsões fora do período em que foi treinado.\n",
    "\n",
    "`class`e `target`foram removidas porque representam exatamente a variável de interesse.\n",
    "\n",
    "Assim como o realizado no trabalho original de M. Harries as variáveis `nswprice` e `vicprice` foram removidas pois, o interesse deste projeto é realizar a predição se a tarifa estará acima ou abaixo da média das últimas 24 horas. Como as predições serão realizadas antes que as informações de tarifa estejam disponíveis não se pode utilizá-las na modelagem. Caso o valor das tarifas já estivesse disponível, no momento da predição, não seria necessário o uso de um modelo de Machine Learning pois, bastaria cálcular a média das tarifas passadas e compará-la com o preço atual.\n",
    "\n",
    "Para o conjunto da variável dependente (y) será utilizada a coluna `target` que é uma representação numérica de `class`."
   ]
  },
  {
   "cell_type": "code",
   "execution_count": 71,
   "metadata": {},
   "outputs": [],
   "source": [
    "X = df.drop(['date', 'class', 'target', 'nswprice', 'vicprice'], axis=1)\n",
    "y = df['target']"
   ]
  },
  {
   "cell_type": "markdown",
   "metadata": {},
   "source": [
    "### Balanceamento das classes\n",
    "\n",
    "Como mostrado anteriormente existe um desbalanceamento das classes. Este deslabanceamento pode comprometer o desempenho do modelo tornando-o tendencioso a gerar mais predições para a classe predominante. Para lidar com o desbalanceamento uma das metodologias que pode ser adotada é o `undersampling`. No undersampling o número de registros da classe dominante é diminuido para que fique igual ao da classe de menor frequência. É esperado, que com o equilíbrio das classes, o modelo torne-se menos tendencioso para uma determinada classe. Um cuidado que deve-se tomar com o undersampling é o de causar uma grande diminuição das amostras, o que também pode comprometer o desempenho do modelo. Mas, como este dataset têm uma quantidade considerável de registros e mesmo com a redução de tamanho ainda restará 19237 registros para cada uma das classes, o undersampling é uma técnica viável."
   ]
  },
  {
   "cell_type": "markdown",
   "metadata": {},
   "source": [
    "Para lidar com classes desbalanceadas existe a biblioteca `imbalanced-learn` esta biblioteca foi derivada do Scikit Learn e, como o nome sugere, contém métodos para lidar com classes desbalanceadas. Entre os métodos disponíveis está o `RandomUnderSampler` que realiza a diminuição da classe de maior frequência selecionando amostras de forma aleatória."
   ]
  },
  {
   "cell_type": "code",
   "execution_count": 72,
   "metadata": {},
   "outputs": [
    {
     "name": "stdout",
     "output_type": "stream",
     "text": [
      "0    19237\n",
      "1    19237\n",
      "Name: target, dtype: int64\n"
     ]
    }
   ],
   "source": [
    "from imblearn.under_sampling import RandomUnderSampler\n",
    "\n",
    "rus = RandomUnderSampler(random_state=101) # o parêmetro random_state é definido apenas para garantir a reprodutibilidade dos resultados exibidos aqui\n",
    "\n",
    "X_rus, y_rus = rus.fit_resample(X, y)\n",
    "\n",
    "print(y_rus.value_counts())"
   ]
  },
  {
   "cell_type": "markdown",
   "metadata": {},
   "source": [
    "### Validação cruzada"
   ]
  },
  {
   "cell_type": "markdown",
   "metadata": {},
   "source": [
    "Uma prática comum em Machine Learning é a divisão do conjunto de dados em dois subconjuntos: teste e treino. O conjunto de treino é utilizado para treinar o modelo, ou seja, realizar o ajuste dos parâmetros do modelo. E o de teste para avaliar o desempenho do modelo. O problema desta técnica é que o desempenho do modelo fica dependente da aleatoriedade. Como a divisão dos grupos é feita de forma aleatória é possível selecionar, dividir o dataset em conjuntos muito fáceis (o que elevaria o desempenho do modelo) ou muito difíceis de prever (o que prejudicaria o desempenho do modelo). Para diminuir a influência da aleatoriedade e ter-se uma melhor noção do real desempenho do modelo é utilizada a técnica de validação cruzada.\n",
    "\n",
    "Na validação cruzada o conjunto original de dados é dividido em **n** subconjuntos (Folds), o modelo de ML é treinado utilzando-se n-1 subconjuntos e avaliado utilizando-se o subconjunto restante, este processo é repetido **n** vezes. A imagem abaixo ilustra este processo.\n",
    "\n",
    "![](https://miro.medium.com/max/1400/0*pNuRN2IXc3DvgSlB.png)\n",
    "\n",
    "O uso da técnica de validação cruzada nos permitir testar vários cenários diferentes e avaliar o quão performático o modelo é antes de o colocarmos e produção. \n",
    "\n",
    "No Scikit Learn o pacote utilizado para realizar a validação cruzada é o `cross_validate`. Aliado ao `cross_validate` será utilizado o `StratifiedKFold` que realiza a divisão dos subconjuntos (Folds) mantendo a proporcionalidade original das classes no dataset. "
   ]
  },
  {
   "cell_type": "code",
   "execution_count": 73,
   "metadata": {},
   "outputs": [],
   "source": [
    "from sklearn.model_selection import StratifiedKFold\n",
    "from sklearn.model_selection import cross_validate\n",
    "\n",
    "skf = StratifiedKFold(n_splits=5)   # Serão utilizados 5 Folds para a validação cruzada"
   ]
  },
  {
   "cell_type": "markdown",
   "metadata": {},
   "source": [
    "### Descrição do modelo Random Forest\n",
    "\n",
    "Para entender-se o modelo de Random Forest ou Floresta Aleatória é preciso primeiro entender o modelo de Árvore de Decisão\n",
    "\n",
    "#### Árvore de Decisão\n",
    "\n",
    "Árvores de decisão são um conjuntos de \"SE ENTÃO\" que descrevem uma sequência de passos para classificar uma amostra. A estrutura de uma árvore é dividida em nós, ramos e folhas. O nós representam testes lógicos que casos positvos derivam para um ramo e caso negativos para outro ramo. Ramos são agrupamentos de nós e folhas. As folhas são o final da árvore a resposta final do modelo. A divisão dos nós é feita utilizando um algoritmo recursivo que busca minimizar a quantidade de impurezas em cada ramo da árvore, diminuindo assim a incerteza associada a cada resposta. Esta otimização pode ser feita buscando-se diminuir um dos seguintes índices: impureza de gini e a entropia. Ambas as métricas quantificam a quantidade de impurezas (dados que não pertençam a uma classe pré-determinada) de uma amostra. Por padrão no Scikit Learn é utilizado o gini como medida de impureza mas, é possível alterar para a entropia.\n",
    "\n",
    "#### Random Forest\n",
    "\n",
    "O algoritmo de Random Forest é um método de ensemble e consiste na construção de várias Árvores de Decisão simultaneamente. Em métodos de ensemble são gerados vários modelos diferentes, a partir de um algoritmo, e a previsão final é dada pelo conjunto e não por um modelo individual. Como resposta final, em problemas de regressão pode-se utiliza a média dos modelos e em problemas de classificação a moda dos modelos.\n",
    "\n",
    "No método de Random Forest o algoritmo seleciona aleatoriamente algumas amostras do conjunto de treino para a criação de uma árvore de decisão. A seleção das amostras é feita utilizando-se bootstrap, que é um método de reamostragem onde as amostras selecionadas podem ser repetidas na seleção. Além da seleção de amostras é realizado a seleção de variáveis, assim, cada árvore gerada poderá considerar diferentes conjuntos de variáveis. No modelo de Árvore de Decisão comum a estrutura de decisão é criada de forma que ela tenha o menor nível de incerteza possível já as árvores do Random Forest não existe esta otimização. No Random Forest escolhe-se aleatoriamente um par de variáveis e verifica-se qual delas têm a menor impureza, a que tiver menor impureza será utilizada como raiz da árvore, este processo é repetido até que conclua-se a classificação das amostras. Assim, o modelo de Random Foreste consegue generalizar melhor para diversos cenários possíveis. \n",
    "\n",
    "O modelo de Random Forest para problemas de regressão e classificação. Aqui será utilizado o `RandomForestClassifier` que é a versão para probelmas de classificação disponível no Scikit Learn."
   ]
  },
  {
   "cell_type": "code",
   "execution_count": 74,
   "metadata": {},
   "outputs": [],
   "source": [
    "from sklearn.ensemble import RandomForestClassifier\n",
    "\n",
    "RFC = RandomForestClassifier(random_state=101) # O random state é definido apenas para garantir a reprodutibilidade dos resultados"
   ]
  },
  {
   "cell_type": "markdown",
   "metadata": {},
   "source": [
    "### Métricas de avaliação"
   ]
  },
  {
   "cell_type": "markdown",
   "metadata": {},
   "source": [
    "Algumas das prícipais métricas de avaliação, para modelos de classificação são:\n",
    "\n",
    "**Acurácia:**\n",
    "\n",
    "Acurácia representa o número de previsões corretas do modelo. Ótima métrica para utilizar quando os dados estão balanceados, dá uma visão geral do quanto o modelo está identificando as classes corretamente. \n",
    "\n",
    "$$Acurácia = \\frac{VP + VN}{VP + VN + FP + FN}$$\n",
    "\n",
    "Em que:\n",
    "\n",
    "VP é a taxa de Verdadeiros Positvos\n",
    "VN é a taxa de Verdadeiros Negativos\n",
    "FN é a taxa de Falsos Negativos\n",
    "FP é a taxa de Falsos Positivos\n",
    "\n",
    "**Precisão**\n",
    "\n",
    "Precisão é a métrica que traz a informação da quantidade de observações classificadas como positivas que realmente são positivas.\n",
    "\n",
    "$$Precisão = \\frac{VP}{VP + FP}$$\n",
    "\n",
    "**Recall**\n",
    "\n",
    "Recall é a proporção dos Verdadeiros Positivos entre todas as observações que realmente são positivas.\n",
    "\n",
    "$$Recall = \\frac{VP}{VP + FN}$$\n"
   ]
  },
  {
   "cell_type": "code",
   "execution_count": 75,
   "metadata": {},
   "outputs": [],
   "source": [
    "def calcula_metricas(resultados):\n",
    "    '''\n",
    "    Função para calcular e exibir as métricas de avaliação do modelo\n",
    "    '''\n",
    "    acuracia_media = resultados['test_accuracy'].mean()\n",
    "    precisao_media = resultados['test_precision'].mean()\n",
    "    recall_media = resultados['test_recall'].mean()\n",
    "\n",
    "    acuracia_desvio_padrao = resultados['test_accuracy'].std()\n",
    "    precisao_desvio_padrao = resultados['test_precision'].std()\n",
    "    recall_desvio_padrao = resultados['test_recall'].std()\n",
    "\n",
    "    print('Resultados:')\n",
    "    print('='*80)\n",
    "    print(f'Acurácia: Média de {acuracia_media:.2f} e desvio padrão de {acuracia_desvio_padrao:.2f}')\n",
    "    print(f'Precisão: Média de {precisao_media:.2f} e desvio padrão de {precisao_desvio_padrao:.2f}')\n",
    "    print(f'Recall: Média de {recall_media:.2f} e desvio padrão de {recall_desvio_padrao:.2f}')\n"
   ]
  },
  {
   "cell_type": "markdown",
   "metadata": {},
   "source": [
    "### Implementação e avaliação do modelo"
   ]
  },
  {
   "cell_type": "code",
   "execution_count": 76,
   "metadata": {},
   "outputs": [],
   "source": [
    "def executa_modelo(estimador):\n",
    "    '''\n",
    "    Função para executar o modelo de ML\n",
    "    '''\n",
    "    resultados_cv = cross_validate(estimador, X_rus, y_rus, cv=skf, scoring=['accuracy', 'precision', 'recall'])\n",
    "    calcula_metricas(resultados_cv)"
   ]
  },
  {
   "cell_type": "markdown",
   "metadata": {},
   "source": [
    "A seguir é exibido o resultado do Random Forest utilizando-se as configurações padrões do modelo."
   ]
  },
  {
   "cell_type": "code",
   "execution_count": 77,
   "metadata": {},
   "outputs": [
    {
     "name": "stdout",
     "output_type": "stream",
     "text": [
      "Resultados:\n",
      "================================================================================\n",
      "Acurácia: Média de 0.57 e desvio padrão de 0.03\n",
      "Precisão: Média de 0.59 e desvio padrão de 0.03\n",
      "Recall: Média de 0.42 e desvio padrão de 0.05\n"
     ]
    }
   ],
   "source": [
    "executa_modelo(RFC)"
   ]
  },
  {
   "cell_type": "markdown",
   "metadata": {},
   "source": [
    "O modelo de Random Forest, utilizando as configurações padrões, têm valores de acurácia e precisão bem próximos. Considerando-se o valor do desvio padrão obtido em cada uma destas métricas pode-se dizer que são iguais. Quanto ao Recall, que penaliza os falsos negativos, o valor obtido é considerado baixo, ou seja, este modelo tende a cometer mais erros do tipo falso negativo do que falsos positivos.\n",
    "\n",
    "O modelo utiliza a coluna `target` para realizar a classificação. Nesta coluna 1 significa UP (acima da média) e 0 significa DOWN (abaixo da média). Por padrão o `RandomForestClassifier` assume o valor 1 para positivo e 0 para negativo. Assim, ao dizer que o modelo tende a cometer mais erros de falso negativo significa dizer que ele tende classificar casos acima da média (UP) como sendo abaixo da média (DOWN)."
   ]
  },
  {
   "cell_type": "markdown",
   "metadata": {},
   "source": [
    "### Otimização do modelo"
   ]
  },
  {
   "cell_type": "markdown",
   "metadata": {},
   "source": [
    "Para o resultado obtido anteriormente utilizou-se configurações padrões do modelo `RandomForestClassifier` do Scikit Learn. Porém, é possível alterar hiperparâmetros do modelo para otimizá-lo, buscando melhores resultados. Hiperparâmetros são parâmetros de modelo definidos antes de realizar o processo de treinamento. Por motivos de limitação computacional aqui serão testados 5 hiperparâmetros do modelo listados a seguir:\n",
    "* `criterion` : Específica o critério para o cálculo da impureza existente em cada ramo. Podem ser utilizadas duas métricas: entropia ou gini.\n",
    "* `max_depth` : Refere-se a profundidade máxima da árvore. Controla a quantidade de níveis máximos que a árvore pode ter (poda). Como a probabilidade de overfiting aumenta com a profundidade da árvore o ajuste deste parâmetro pode evitar que isso ocorra.\n",
    "* `min_samples_split` : Quantidade mínima de amostras para dividir um nó.\n",
    "* `min_samples_leaf` : Quantidade mínima de amostras que uma folha de ter.\n",
    "* `n_estimators` : Número de árvores que serão geradas.\n",
    "\n",
    "Para automatizar o processo de busca do melhor conjunto de parâmetros será utilizada a função `GridSeachCV`. Este método realiza uma busca entre todas as combinações possíveis dos parâmetros fornecidos. Ele realiza uma pesquisa na grade de parâmetros fornecida e seleciona o melhor estimador por validação cruzada utilizando por padrão a acurácia.  "
   ]
  },
  {
   "cell_type": "code",
   "execution_count": 78,
   "metadata": {},
   "outputs": [
    {
     "data": {
      "text/plain": [
       "GridSearchCV(cv=StratifiedKFold(n_splits=5, random_state=None, shuffle=False),\n",
       "             estimator=RandomForestClassifier(n_jobs=-1, random_state=101),\n",
       "             param_grid={'criterion': ['gini', 'entropy'],\n",
       "                         'max_depth': [3, 4, 5], 'min_samples_leaf': [2, 4, 8],\n",
       "                         'min_samples_split': [4, 8, 16],\n",
       "                         'n_estimators': [100, 200, 300]})"
      ]
     },
     "execution_count": 78,
     "metadata": {},
     "output_type": "execute_result"
    }
   ],
   "source": [
    "from sklearn.model_selection import GridSearchCV\n",
    "\n",
    "parametros = {\n",
    "    'criterion' : ['gini', 'entropy'],\n",
    "    'max_depth' : [3, 4, 5],\n",
    "    'min_samples_split' : [4, 8, 16],\n",
    "    'min_samples_leaf' : [2, 4, 8],\n",
    "    'n_estimators' : [100, 200, 300]\n",
    "}\n",
    "RFC = RandomForestClassifier(random_state=101, n_jobs=-1)\n",
    "clf = GridSearchCV(RFC, parametros, cv=skf)\n",
    "clf.fit(X_rus, y_rus)"
   ]
  },
  {
   "cell_type": "code",
   "execution_count": 110,
   "metadata": {},
   "outputs": [
    {
     "name": "stdout",
     "output_type": "stream",
     "text": [
      "Melhor estimador\n",
      "{'criterion': 'entropy', 'max_depth': 4, 'min_samples_leaf': 2, 'min_samples_split': 8, 'n_estimators': 200}\n",
      "Acurácia do melhor estimador: 0.60\n"
     ]
    }
   ],
   "source": [
    "print('Melhor estimador')\n",
    "print(clf.best_params_)\n",
    "print('Acurácia do melhor estimador: %.2f' % clf.best_score_)"
   ]
  },
  {
   "cell_type": "code",
   "execution_count": 111,
   "metadata": {},
   "outputs": [
    {
     "name": "stdout",
     "output_type": "stream",
     "text": [
      "Resultados:\n",
      "================================================================================\n",
      "Acurácia: Média de 0.60 e desvio padrão de 0.06\n",
      "Precisão: Média de 0.58 e desvio padrão de 0.04\n",
      "Recall: Média de 0.64 e desvio padrão de 0.14\n"
     ]
    }
   ],
   "source": [
    "executa_modelo(clf.best_estimator_)"
   ]
  },
  {
   "cell_type": "markdown",
   "metadata": {},
   "source": [
    "### Conclusões\n",
    "\n",
    "O uso do `GridSearchCV` para testar diversas combinações de hiperparâmetros do Random Foreste permitiu encontrar um modelo final com maior acurácia, porém, com maior desvio padrão o que significa aumento na incerteza do modelo. O modelo final também têm Recall médio superior ao primeiro modelo já para a precisão houve uma pequena diminuição mas, considerando-se os desvios padrão, não é uma mudança significativa. No final, o modelo obtido da otimização dos hiperparâmetros conseguiu performar, em média, melhor que o modelo utilizando as configurações padrões do Scikit Learn. \n",
    "\n"
   ]
  },
  {
   "cell_type": "markdown",
   "metadata": {},
   "source": []
  },
  {
   "cell_type": "code",
   "execution_count": null,
   "metadata": {},
   "outputs": [],
   "source": []
  }
 ],
 "metadata": {
  "interpreter": {
   "hash": "f8982e1f4ab427bb87d5be74831db1f094ba5a856f389ce2aee8b2f4fb023e4a"
  },
  "kernelspec": {
   "display_name": "Python 3.8.10 ('base')",
   "language": "python",
   "name": "python3"
  },
  "language_info": {
   "codemirror_mode": {
    "name": "ipython",
    "version": 3
   },
   "file_extension": ".py",
   "mimetype": "text/x-python",
   "name": "python",
   "nbconvert_exporter": "python",
   "pygments_lexer": "ipython3",
   "version": "3.8.10"
  },
  "orig_nbformat": 4
 },
 "nbformat": 4,
 "nbformat_minor": 2
}
